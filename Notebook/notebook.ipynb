{
 "cells": [
  {
   "cell_type": "code",
   "execution_count": 51,
   "metadata": {},
   "outputs": [],
   "source": [
    "import findspark\n",
    "\n",
    "from pyspark.sql.functions import *\n"
   ]
  },
  {
   "cell_type": "code",
   "execution_count": 52,
   "metadata": {},
   "outputs": [],
   "source": [
    "findspark.init()"
   ]
  },
  {
   "cell_type": "code",
   "execution_count": 53,
   "metadata": {},
   "outputs": [],
   "source": [
    "from pyspark.sql import SparkSession\n",
    "spark = SparkSession.builder.getOrCreate()"
   ]
  },
  {
   "cell_type": "code",
   "execution_count": 50,
   "metadata": {},
   "outputs": [],
   "source": [
    "df_train = spark.read.format(\"csv\")\\\n",
    ".option(\"header\", \"True\")\\\n",
    ".option(\"inferSchema\",\"True\")\\\n",
    ".load(\"train_ver2.csv\")"
   ]
  },
  {
   "cell_type": "code",
   "execution_count": 54,
   "metadata": {},
   "outputs": [
    {
     "name": "stdout",
     "output_type": "stream",
     "text": [
      "+-------------------+---------+------------+---------------+----+---+-------------------+---------+----------+------+--------------+-----------+-----------+-------+------+--------+-------------+-------+-------+--------+-----------+---------------------+------------------+------------------+-----------------+-----------------+----------------+-----------------+----------------+-----------------+-----------------+-----------------+-----------------+-----------------+-----------------+-----------------+-----------------+-----------------+----------------+-----------------+-----------------+-----------------+-----------------+-----------------+----------------+---------------+-----------------+---------------+\n",
      "|         fecha_dato| ncodpers|ind_empleado|pais_residencia|sexo|age|         fecha_alta|ind_nuevo|antiguedad|indrel|ult_fec_cli_1t|indrel_1mes|tiprel_1mes|indresi|indext|conyuemp|canal_entrada|indfall|tipodom|cod_prov|    nomprov|ind_actividad_cliente|             renta|          segmento|ind_ahor_fin_ult1|ind_aval_fin_ult1|ind_cco_fin_ult1|ind_cder_fin_ult1|ind_cno_fin_ult1|ind_ctju_fin_ult1|ind_ctma_fin_ult1|ind_ctop_fin_ult1|ind_ctpp_fin_ult1|ind_deco_fin_ult1|ind_deme_fin_ult1|ind_dela_fin_ult1|ind_ecue_fin_ult1|ind_fond_fin_ult1|ind_hip_fin_ult1|ind_plan_fin_ult1|ind_pres_fin_ult1|ind_reca_fin_ult1|ind_tjcr_fin_ult1|ind_valo_fin_ult1|ind_viv_fin_ult1|ind_nomina_ult1|ind_nom_pens_ult1|ind_recibo_ult1|\n",
      "+-------------------+---------+------------+---------------+----+---+-------------------+---------+----------+------+--------------+-----------+-----------+-------+------+--------+-------------+-------+-------+--------+-----------+---------------------+------------------+------------------+-----------------+-----------------+----------------+-----------------+----------------+-----------------+-----------------+-----------------+-----------------+-----------------+-----------------+-----------------+-----------------+-----------------+----------------+-----------------+-----------------+-----------------+-----------------+-----------------+----------------+---------------+-----------------+---------------+\n",
      "|2015-01-28 00:00:00|1375586.0|           N|             ES|   H| 35|2015-01-12 00:00:00|        0|         6|     1|          null|        1.0|          A|      S|     N|    null|          KHL|      N|      1|      29|     MALAGA|                    1|           87218.1| 02 - PARTICULARES|                0|                0|               1|                0|               0|                0|                0|                0|                0|                0|                0|                0|                0|                0|               0|                0|                0|                0|                0|                0|               0|              0|                0|              0|\n",
      "|2015-01-28 00:00:00|1050611.0|           N|             ES|   V| 23|2012-08-10 00:00:00|        0|        35|     1|          null|          1|          I|      S|     S|    null|          KHE|      N|      1|      13|CIUDAD REAL|                    0|          35548.74|03 - UNIVERSITARIO|                0|                0|               1|                0|               0|                0|                0|                0|                0|                0|                0|                0|                0|                0|               0|                0|                0|                0|                0|                0|               0|              0|                0|              0|\n",
      "|2015-01-28 00:00:00|1050612.0|           N|             ES|   V| 23|2012-08-10 00:00:00|        0|        35|     1|          null|          1|          I|      S|     N|    null|          KHE|      N|      1|      13|CIUDAD REAL|                    0|122179.11000000002|03 - UNIVERSITARIO|                0|                0|               1|                0|               0|                0|                0|                0|                0|                0|                0|                0|                0|                0|               0|                0|                0|                0|                0|                0|               0|              0|                0|              0|\n",
      "|2015-01-28 00:00:00|1050613.0|           N|             ES|   H| 22|2012-08-10 00:00:00|        0|        35|     1|          null|          1|          I|      S|     N|    null|          KHD|      N|      1|      50|   ZARAGOZA|                    0|         119775.54|03 - UNIVERSITARIO|                0|                0|               0|                0|               0|                0|                0|                0|                0|                1|                0|                0|                0|                0|               0|                0|                0|                0|                0|                0|               0|              0|                0|              0|\n",
      "|2015-01-28 00:00:00|1050614.0|           N|             ES|   V| 23|2012-08-10 00:00:00|        0|        35|     1|          null|          1|          A|      S|     N|    null|          KHE|      N|      1|      50|   ZARAGOZA|                    1|              null|03 - UNIVERSITARIO|                0|                0|               1|                0|               0|                0|                0|                0|                0|                0|                0|                0|                0|                0|               0|                0|                0|                0|                0|                0|               0|              0|                0|              0|\n",
      "|2015-01-28 00:00:00|1050615.0|           N|             ES|   H| 23|2012-08-10 00:00:00|        0|        35|     1|          null|          1|          I|      S|     N|    null|          KHE|      N|      1|      45|     TOLEDO|                    0|          22220.04|03 - UNIVERSITARIO|                0|                0|               1|                0|               0|                0|                0|                0|                0|                0|                0|                0|                0|                0|               0|                0|                0|                0|                0|                0|               0|              0|                0|              0|\n",
      "|2015-01-28 00:00:00|1050616.0|           N|             ES|   H| 23|2012-08-10 00:00:00|        0|        35|     1|          null|          1|          I|      S|     N|    null|          KHE|      N|      1|      24|       LEON|                    0|         295590.36|03 - UNIVERSITARIO|                0|                0|               1|                0|               0|                0|                0|                0|                0|                0|                0|                0|                0|                0|               0|                0|                0|                0|                0|                0|               0|              0|                0|              0|\n",
      "|2015-01-28 00:00:00|1050617.0|           N|             ES|   H| 23|2012-08-10 00:00:00|        0|        35|     1|          null|          1|          A|      S|     N|    null|          KHE|      N|      1|      50|   ZARAGOZA|                    1|         113316.66|03 - UNIVERSITARIO|                0|                0|               1|                0|               0|                0|                0|                0|                0|                0|                0|                0|                0|                0|               0|                0|                0|                0|                0|                0|               0|              0|                0|              0|\n",
      "|2015-01-28 00:00:00|1050619.0|           N|             ES|   H| 24|2012-08-10 00:00:00|        0|        35|     1|          null|          1|          I|      S|     N|    null|          KHE|      N|      1|      20|   GIPUZKOA|                    0|              null|03 - UNIVERSITARIO|                0|                0|               1|                0|               0|                0|                0|                0|                0|                0|                0|                0|                0|                0|               0|                0|                0|                0|                0|                0|               0|              0|                0|              0|\n",
      "|2015-01-28 00:00:00|1050620.0|           N|             ES|   H| 23|2012-08-10 00:00:00|        0|        35|     1|          null|          1|          I|      S|     N|    null|          KHE|      N|      1|      10|    CACERES|                    0|         113194.98|03 - UNIVERSITARIO|                0|                0|               1|                0|               0|                0|                0|                0|                0|                0|                0|                0|                0|                0|               0|                0|                0|                0|                0|                0|               0|              0|                0|              0|\n",
      "+-------------------+---------+------------+---------------+----+---+-------------------+---------+----------+------+--------------+-----------+-----------+-------+------+--------+-------------+-------+-------+--------+-----------+---------------------+------------------+------------------+-----------------+-----------------+----------------+-----------------+----------------+-----------------+-----------------+-----------------+-----------------+-----------------+-----------------+-----------------+-----------------+-----------------+----------------+-----------------+-----------------+-----------------+-----------------+-----------------+----------------+---------------+-----------------+---------------+\n",
      "only showing top 10 rows\n",
      "\n"
     ]
    }
   ],
   "source": [
    "df_train.show(10)"
   ]
  },
  {
   "cell_type": "code",
   "execution_count": 55,
   "metadata": {},
   "outputs": [
    {
     "name": "stdout",
     "output_type": "stream",
     "text": [
      "root\n",
      " |-- fecha_dato: timestamp (nullable = true)\n",
      " |-- ncodpers: double (nullable = true)\n",
      " |-- ind_empleado: string (nullable = true)\n",
      " |-- pais_residencia: string (nullable = true)\n",
      " |-- sexo: string (nullable = true)\n",
      " |-- age: string (nullable = true)\n",
      " |-- fecha_alta: timestamp (nullable = true)\n",
      " |-- ind_nuevo: string (nullable = true)\n",
      " |-- antiguedad: string (nullable = true)\n",
      " |-- indrel: string (nullable = true)\n",
      " |-- ult_fec_cli_1t: timestamp (nullable = true)\n",
      " |-- indrel_1mes: string (nullable = true)\n",
      " |-- tiprel_1mes: string (nullable = true)\n",
      " |-- indresi: string (nullable = true)\n",
      " |-- indext: string (nullable = true)\n",
      " |-- conyuemp: string (nullable = true)\n",
      " |-- canal_entrada: string (nullable = true)\n",
      " |-- indfall: string (nullable = true)\n",
      " |-- tipodom: string (nullable = true)\n",
      " |-- cod_prov: string (nullable = true)\n",
      " |-- nomprov: string (nullable = true)\n",
      " |-- ind_actividad_cliente: string (nullable = true)\n",
      " |-- renta: double (nullable = true)\n",
      " |-- segmento: string (nullable = true)\n",
      " |-- ind_ahor_fin_ult1: integer (nullable = true)\n",
      " |-- ind_aval_fin_ult1: integer (nullable = true)\n",
      " |-- ind_cco_fin_ult1: integer (nullable = true)\n",
      " |-- ind_cder_fin_ult1: integer (nullable = true)\n",
      " |-- ind_cno_fin_ult1: integer (nullable = true)\n",
      " |-- ind_ctju_fin_ult1: integer (nullable = true)\n",
      " |-- ind_ctma_fin_ult1: integer (nullable = true)\n",
      " |-- ind_ctop_fin_ult1: integer (nullable = true)\n",
      " |-- ind_ctpp_fin_ult1: integer (nullable = true)\n",
      " |-- ind_deco_fin_ult1: integer (nullable = true)\n",
      " |-- ind_deme_fin_ult1: integer (nullable = true)\n",
      " |-- ind_dela_fin_ult1: integer (nullable = true)\n",
      " |-- ind_ecue_fin_ult1: integer (nullable = true)\n",
      " |-- ind_fond_fin_ult1: integer (nullable = true)\n",
      " |-- ind_hip_fin_ult1: integer (nullable = true)\n",
      " |-- ind_plan_fin_ult1: integer (nullable = true)\n",
      " |-- ind_pres_fin_ult1: integer (nullable = true)\n",
      " |-- ind_reca_fin_ult1: integer (nullable = true)\n",
      " |-- ind_tjcr_fin_ult1: integer (nullable = true)\n",
      " |-- ind_valo_fin_ult1: integer (nullable = true)\n",
      " |-- ind_viv_fin_ult1: integer (nullable = true)\n",
      " |-- ind_nomina_ult1: string (nullable = true)\n",
      " |-- ind_nom_pens_ult1: string (nullable = true)\n",
      " |-- ind_recibo_ult1: integer (nullable = true)\n",
      "\n"
     ]
    }
   ],
   "source": [
    "#Informações sobre dataset\n",
    "df_train.printSchema()"
   ]
  },
  {
   "cell_type": "code",
   "execution_count": 56,
   "metadata": {},
   "outputs": [
    {
     "name": "stdout",
     "output_type": "stream",
     "text": [
      "root\n",
      " |-- age: integer (nullable = true)\n",
      "\n"
     ]
    }
   ],
   "source": [
    "#Mudar tipo do dado\n",
    "df_train = df_train.withColumn(\n",
    "    colName = 'age', \n",
    "    col = regexp_replace('age',',','.').cast('int')\n",
    "    )\n",
    "\n",
    "# Inspecionando o resultado\n",
    "df_train.select('age').printSchema()"
   ]
  },
  {
   "cell_type": "code",
   "execution_count": 57,
   "metadata": {},
   "outputs": [
    {
     "name": "stdout",
     "output_type": "stream",
     "text": [
      "root\n",
      " |-- antiguedad: integer (nullable = true)\n",
      "\n"
     ]
    }
   ],
   "source": [
    "df_train = df_train.withColumn(\n",
    "    colName = 'antiguedad', \n",
    "    col = regexp_replace('antiguedad',',','.').cast('int')\n",
    "    )\n",
    "\n",
    "# Inspecionando o resultado\n",
    "df_train.select('antiguedad').printSchema()"
   ]
  },
  {
   "cell_type": "code",
   "execution_count": 58,
   "metadata": {},
   "outputs": [
    {
     "name": "stdout",
     "output_type": "stream",
     "text": [
      "root\n",
      " |-- indrel_1mes: integer (nullable = true)\n",
      "\n"
     ]
    }
   ],
   "source": [
    "df_train = df_train.withColumn(\n",
    "    colName = 'indrel_1mes', \n",
    "    col = regexp_replace('indrel_1mes',',','.').cast('int')\n",
    "    )\n",
    "\n",
    "# Inspecionando o resultado\n",
    "df_train.select('indrel_1mes').printSchema()"
   ]
  },
  {
   "cell_type": "code",
   "execution_count": 59,
   "metadata": {},
   "outputs": [],
   "source": [
    "#Excluir colunas com maioria nulos\n",
    "df_train=df_train.drop('conyuemp')\n",
    "df_train=df_train.drop('ult_fec_cli_1t')"
   ]
  },
  {
   "cell_type": "code",
   "execution_count": 60,
   "metadata": {},
   "outputs": [],
   "source": [
    "#Tratar nulos de segmento\n",
    "df_train = df_train.na.fill(\"02 - PARTICULARES\",subset=[\"segmento\"])"
   ]
  },
  {
   "cell_type": "code",
   "execution_count": 61,
   "metadata": {},
   "outputs": [
    {
     "name": "stdout",
     "output_type": "stream",
     "text": [
      "+------------------+-------+\n",
      "|          segmento|  count|\n",
      "+------------------+-------+\n",
      "| 02 - PARTICULARES|8149588|\n",
      "|03 - UNIVERSITARIO|4935579|\n",
      "|          01 - TOP| 562142|\n",
      "+------------------+-------+\n",
      "\n"
     ]
    }
   ],
   "source": [
    "df_train.groupBy(\"segmento\").count().sort(desc(\"count\")).show()"
   ]
  },
  {
   "cell_type": "code",
   "execution_count": 62,
   "metadata": {},
   "outputs": [
    {
     "name": "stdout",
     "output_type": "stream",
     "text": [
      "+-----------------+\n",
      "|         avg(age)|\n",
      "+-----------------+\n",
      "|40.18146491355274|\n",
      "+-----------------+\n",
      "\n"
     ]
    }
   ],
   "source": [
    "#Media da idade\n",
    "mean_ = df_train.agg({'age': 'avg'}).show()\n",
    "\n",
    "#tratar nulos\n",
    "df_train = df_train.na.fill(40.18146491355274,subset=[\"age\"])"
   ]
  },
  {
   "cell_type": "code",
   "execution_count": 63,
   "metadata": {},
   "outputs": [
    {
     "name": "stdout",
     "output_type": "stream",
     "text": [
      "+---+------+\n",
      "|age| count|\n",
      "+---+------+\n",
      "| 23|779884|\n",
      "| 22|736314|\n",
      "| 24|734785|\n",
      "| 21|675988|\n",
      "| 25|472016|\n",
      "| 20|422867|\n",
      "| 26|347778|\n",
      "| 43|324303|\n",
      "| 44|322955|\n",
      "| 42|319713|\n",
      "| 40|315488|\n",
      "| 45|314771|\n",
      "| 41|309051|\n",
      "| 46|299365|\n",
      "| 47|286505|\n",
      "| 27|281981|\n",
      "| 48|271576|\n",
      "| 39|260548|\n",
      "| 49|250484|\n",
      "| 28|240192|\n",
      "+---+------+\n",
      "only showing top 20 rows\n",
      "\n"
     ]
    }
   ],
   "source": [
    "df_train.groupBy(\"age\").count().sort(desc(\"count\")).show()"
   ]
  },
  {
   "cell_type": "code",
   "execution_count": 64,
   "metadata": {},
   "outputs": [
    {
     "name": "stdout",
     "output_type": "stream",
     "text": [
      "+----+-------+\n",
      "|sexo|  count|\n",
      "+----+-------+\n",
      "|   V|7452056|\n",
      "|   H|6195253|\n",
      "+----+-------+\n",
      "\n"
     ]
    }
   ],
   "source": [
    "df_train = df_train.na.fill(\"V\",subset=[\"sexo\"])\n",
    "df_train.groupBy(\"sexo\").count().sort(desc(\"count\")).show()"
   ]
  }
 ],
 "metadata": {
  "kernelspec": {
   "display_name": "Python 3.10.4 64-bit",
   "language": "python",
   "name": "python3"
  },
  "language_info": {
   "codemirror_mode": {
    "name": "ipython",
    "version": 3
   },
   "file_extension": ".py",
   "mimetype": "text/x-python",
   "name": "python",
   "nbconvert_exporter": "python",
   "pygments_lexer": "ipython3",
   "version": "3.10.4"
  },
  "orig_nbformat": 4,
  "vscode": {
   "interpreter": {
    "hash": "05790557b79ad103d62bfd7680ff8acf1ae44a25fb22088c57d81bdf3f52be40"
   }
  }
 },
 "nbformat": 4,
 "nbformat_minor": 2
}
